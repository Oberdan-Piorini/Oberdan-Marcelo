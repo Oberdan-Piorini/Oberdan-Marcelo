{
 "cells": [
  {
   "cell_type": "code",
   "execution_count": 64,
   "metadata": {},
   "outputs": [
    {
     "data": {
      "text/plain": [
       "<matplotlib.axes._subplots.AxesSubplot at 0x16832d21c48>"
      ]
     },
     "execution_count": 64,
     "metadata": {},
     "output_type": "execute_result"
    },
    {
     "data": {
      "image/png": "[encoded data removed]",
      "text/plain": [
       "<Figure size 432x288 with 1 Axes>"
      ]
     },
     "metadata": {
      "needs_background": "light"
     },
     "output_type": "display_data"
    }
   ],
   "source": [
    "#O nosso trabalho analisa dados de roubo e furto de veículos no Vale do Paraíba, no período de janeiro a abril de 2020, dados estes retirados da própria base da polícia, sendo  este dados de fato verídico e não fantasioso, contudo foi feito uma preparação, onde os dados foram alterados para formato CSV entretanto respeitando toda a base de dados originais sem alteração de valores\n",
    "\n",
    "\n",
    "\n",
    "import pandas as pd\n",
    "df = pd.read_csv('FURTOROUBO.csv', sep=';', encoding='cp1252')\n",
    "\n",
    "#Quantidade de roubo e furo de janeiro a Abril\n",
    "\n",
    "%matplotlib inline \n",
    "df['MES'].value_counts().plot.bar(title='Quadro geral de Roubos e Furtos')"
   ]
  },
  {
   "cell_type": "code",
   "execution_count": 27,
   "metadata": {},
   "outputs": [
    {
     "data": {
      "text/html": [
       "<div>\n",
       "<style scoped>\n",
       "    .dataframe tbody tr th:only-of-type {\n",
       "        vertical-align: middle;\n",
       "    }\n",
       "\n",
       "    .dataframe tbody tr th {\n",
       "        vertical-align: top;\n",
       "    }\n",
       "\n",
       "    .dataframe thead th {\n",
       "        text-align: right;\n",
       "    }\n",
       "</style>\n",
       "<table border=\"1\" class=\"dataframe\">\n",
       "  <thead>\n",
       "    <tr style=\"text-align: right;\">\n",
       "      <th></th>\n",
       "      <th>SITUAÇÃO</th>\n",
       "      <th>MARCA/MODELO</th>\n",
       "      <th>ANO/MODELO</th>\n",
       "      <th>COR</th>\n",
       "      <th>DATA DES</th>\n",
       "      <th>MES</th>\n",
       "      <th>Unnamed: 6</th>\n",
       "    </tr>\n",
       "  </thead>\n",
       "  <tbody>\n",
       "    <tr>\n",
       "      <th>0</th>\n",
       "      <td>FURTADO</td>\n",
       "      <td>FORD/KA FLEX</td>\n",
       "      <td>2013</td>\n",
       "      <td>PRATA</td>\n",
       "      <td>01/01/2020 00:00:00</td>\n",
       "      <td>JANEIRO</td>\n",
       "      <td>NaN</td>\n",
       "    </tr>\n",
       "    <tr>\n",
       "      <th>1</th>\n",
       "      <td>FURTADO</td>\n",
       "      <td>HONDA/CG 125 FAN KS</td>\n",
       "      <td>2009</td>\n",
       "      <td>VERMELHO</td>\n",
       "      <td>01/01/2020 04:20:00</td>\n",
       "      <td>JANEIRO</td>\n",
       "      <td>NaN</td>\n",
       "    </tr>\n",
       "    <tr>\n",
       "      <th>2</th>\n",
       "      <td>FURTADO</td>\n",
       "      <td>HONDA/CG 125 FAN ES</td>\n",
       "      <td>2009</td>\n",
       "      <td>VERMELHO</td>\n",
       "      <td>01/01/2020 12:00:00</td>\n",
       "      <td>JANEIRO</td>\n",
       "      <td>NaN</td>\n",
       "    </tr>\n",
       "    <tr>\n",
       "      <th>3</th>\n",
       "      <td>FURTADO</td>\n",
       "      <td>HONDA/CG 125 FAN ES</td>\n",
       "      <td>2009</td>\n",
       "      <td>VERMELHO</td>\n",
       "      <td>01/01/2020 12:00:00</td>\n",
       "      <td>JANEIRO</td>\n",
       "      <td>NaN</td>\n",
       "    </tr>\n",
       "    <tr>\n",
       "      <th>4</th>\n",
       "      <td>FURTADO</td>\n",
       "      <td>VW/GOL 1000</td>\n",
       "      <td>1995</td>\n",
       "      <td>PRETA</td>\n",
       "      <td>01/01/2020 13:40:00</td>\n",
       "      <td>JANEIRO</td>\n",
       "      <td>NaN</td>\n",
       "    </tr>\n",
       "    <tr>\n",
       "      <th>...</th>\n",
       "      <td>...</td>\n",
       "      <td>...</td>\n",
       "      <td>...</td>\n",
       "      <td>...</td>\n",
       "      <td>...</td>\n",
       "      <td>...</td>\n",
       "      <td>...</td>\n",
       "    </tr>\n",
       "    <tr>\n",
       "      <th>1255</th>\n",
       "      <td>FURTADO</td>\n",
       "      <td>I/TOYOTA HILUX SW4 4X4SR</td>\n",
       "      <td>0</td>\n",
       "      <td>PRATA</td>\n",
       "      <td>30/04/2020 03:00:00</td>\n",
       "      <td>ABRIL</td>\n",
       "      <td>NaN</td>\n",
       "    </tr>\n",
       "    <tr>\n",
       "      <th>1256</th>\n",
       "      <td>FURTADO</td>\n",
       "      <td>CHEV/PRISMA 10MT JOYE</td>\n",
       "      <td>2019</td>\n",
       "      <td>PRATA</td>\n",
       "      <td>30/04/2020 06:30:00</td>\n",
       "      <td>ABRIL</td>\n",
       "      <td>NaN</td>\n",
       "    </tr>\n",
       "    <tr>\n",
       "      <th>1257</th>\n",
       "      <td>FURTADO</td>\n",
       "      <td>FORD/FORD</td>\n",
       "      <td>0</td>\n",
       "      <td>VERMELHO</td>\n",
       "      <td>30/04/2020 20:07:00</td>\n",
       "      <td>ABRIL</td>\n",
       "      <td>NaN</td>\n",
       "    </tr>\n",
       "    <tr>\n",
       "      <th>1258</th>\n",
       "      <td>ROUBADO</td>\n",
       "      <td>HONDA/CBX 250 TWISTER</td>\n",
       "      <td>0</td>\n",
       "      <td>PRETA</td>\n",
       "      <td>30/04/2020 20:10:00</td>\n",
       "      <td>ABRIL</td>\n",
       "      <td>NaN</td>\n",
       "    </tr>\n",
       "    <tr>\n",
       "      <th>1259</th>\n",
       "      <td>ROUBADO</td>\n",
       "      <td>FIAT/PALIO WEEKEND ELX</td>\n",
       "      <td>2002</td>\n",
       "      <td>VERMELHO</td>\n",
       "      <td>30/04/2020 22:15:00</td>\n",
       "      <td>ABRIL</td>\n",
       "      <td>NaN</td>\n",
       "    </tr>\n",
       "  </tbody>\n",
       "</table>\n",
       "<p>1260 rows × 7 columns</p>\n",
       "</div>"
      ],
      "text/plain": [
       "     SITUAÇÃO              MARCA/MODELO  ANO/MODELO       COR  \\\n",
       "0     FURTADO              FORD/KA FLEX        2013     PRATA   \n",
       "1     FURTADO       HONDA/CG 125 FAN KS        2009  VERMELHO   \n",
       "2     FURTADO       HONDA/CG 125 FAN ES        2009  VERMELHO   \n",
       "3     FURTADO       HONDA/CG 125 FAN ES        2009  VERMELHO   \n",
       "4     FURTADO               VW/GOL 1000        1995     PRETA   \n",
       "...       ...                       ...         ...       ...   \n",
       "1255  FURTADO  I/TOYOTA HILUX SW4 4X4SR           0     PRATA   \n",
       "1256  FURTADO     CHEV/PRISMA 10MT JOYE        2019     PRATA   \n",
       "1257  FURTADO                 FORD/FORD           0  VERMELHO   \n",
       "1258  ROUBADO     HONDA/CBX 250 TWISTER           0     PRETA   \n",
       "1259  ROUBADO    FIAT/PALIO WEEKEND ELX        2002  VERMELHO   \n",
       "\n",
       "                 DATA DES      MES  Unnamed: 6  \n",
       "0     01/01/2020 00:00:00  JANEIRO         NaN  \n",
       "1     01/01/2020 04:20:00  JANEIRO         NaN  \n",
       "2     01/01/2020 12:00:00  JANEIRO         NaN  \n",
       "3     01/01/2020 12:00:00  JANEIRO         NaN  \n",
       "4     01/01/2020 13:40:00  JANEIRO         NaN  \n",
       "...                   ...      ...         ...  \n",
       "1255  30/04/2020 03:00:00    ABRIL         NaN  \n",
       "1256  30/04/2020 06:30:00    ABRIL         NaN  \n",
       "1257  30/04/2020 20:07:00    ABRIL         NaN  \n",
       "1258  30/04/2020 20:10:00    ABRIL         NaN  \n",
       "1259  30/04/2020 22:15:00    ABRIL         NaN  \n",
       "\n",
       "[1260 rows x 7 columns]"
      ]
     },
     "execution_count": 27,
     "metadata": {},
     "output_type": "execute_result"
    }
   ],
   "source": [
    "import pandas as pd\n",
    "df = pd.read_csv('FURTOROUBO.csv', sep=';', encoding='cp1252')\n",
    "\n",
    "#Mostrar as 5 primeiras linhas  dataframe\n",
    "df.head(1260)\n"
   ]
  },
  {
   "cell_type": "code",
   "execution_count": 1,
   "metadata": {},
   "outputs": [
    {
     "data": {
      "text/plain": [
       "<matplotlib.axes._subplots.AxesSubplot at 0x195ec55d8c8>"
      ]
     },
     "execution_count": 1,
     "metadata": {},
     "output_type": "execute_result"
    },
    {
     "data": {
      "image/png": "[encoded data removed]",
      "text/plain": [
       "<Figure size 432x288 with 1 Axes>"
      ]
     },
     "metadata": {},
     "output_type": "display_data"
    }
   ],
   "source": [
    "# Gráfico exibindo roubo x furto\n",
    "import pandas as pd\n",
    "df = pd.read_csv('FURTOROUBO.csv', sep=';', encoding='cp1252')\n",
    "\n",
    "%matplotlib inline \n",
    "df['SITUAÇÃO'].value_counts().plot.pie(title='Quadro geral de Roubos e Furtos')"
   ]
  },
  {
   "cell_type": "code",
   "execution_count": 7,
   "metadata": {},
   "outputs": [
    {
     "data": {
      "text/html": [
       "<div>\n",
       "<style scoped>\n",
       "    .dataframe tbody tr th:only-of-type {\n",
       "        vertical-align: middle;\n",
       "    }\n",
       "\n",
       "    .dataframe tbody tr th {\n",
       "        vertical-align: top;\n",
       "    }\n",
       "\n",
       "    .dataframe thead th {\n",
       "        text-align: right;\n",
       "    }\n",
       "</style>\n",
       "<table border=\"1\" class=\"dataframe\">\n",
       "  <thead>\n",
       "    <tr style=\"text-align: right;\">\n",
       "      <th></th>\n",
       "      <th>SITUAÇÃO</th>\n",
       "      <th>MARCA/MODELO</th>\n",
       "      <th>ANO/MODELO</th>\n",
       "      <th>COR</th>\n",
       "      <th>DATA DES</th>\n",
       "      <th>MES</th>\n",
       "      <th>Unnamed: 6</th>\n",
       "    </tr>\n",
       "  </thead>\n",
       "  <tbody>\n",
       "    <tr>\n",
       "      <th>0</th>\n",
       "      <td>FURTADO</td>\n",
       "      <td>FORD/KA FLEX</td>\n",
       "      <td>2013</td>\n",
       "      <td>PRATA</td>\n",
       "      <td>01/01/2020 00:00:00</td>\n",
       "      <td>JANEIRO</td>\n",
       "      <td>NaN</td>\n",
       "    </tr>\n",
       "    <tr>\n",
       "      <th>1</th>\n",
       "      <td>FURTADO</td>\n",
       "      <td>HONDA/CG 125 FAN KS</td>\n",
       "      <td>2009</td>\n",
       "      <td>VERMELHO</td>\n",
       "      <td>01/01/2020 04:20:00</td>\n",
       "      <td>JANEIRO</td>\n",
       "      <td>NaN</td>\n",
       "    </tr>\n",
       "    <tr>\n",
       "      <th>2</th>\n",
       "      <td>FURTADO</td>\n",
       "      <td>HONDA/CG 125 FAN ES</td>\n",
       "      <td>2009</td>\n",
       "      <td>VERMELHO</td>\n",
       "      <td>01/01/2020 12:00:00</td>\n",
       "      <td>JANEIRO</td>\n",
       "      <td>NaN</td>\n",
       "    </tr>\n",
       "    <tr>\n",
       "      <th>3</th>\n",
       "      <td>FURTADO</td>\n",
       "      <td>HONDA/CG 125 FAN ES</td>\n",
       "      <td>2009</td>\n",
       "      <td>VERMELHO</td>\n",
       "      <td>01/01/2020 12:00:00</td>\n",
       "      <td>JANEIRO</td>\n",
       "      <td>NaN</td>\n",
       "    </tr>\n",
       "    <tr>\n",
       "      <th>4</th>\n",
       "      <td>FURTADO</td>\n",
       "      <td>VW/GOL 1000</td>\n",
       "      <td>1995</td>\n",
       "      <td>PRETA</td>\n",
       "      <td>01/01/2020 13:40:00</td>\n",
       "      <td>JANEIRO</td>\n",
       "      <td>NaN</td>\n",
       "    </tr>\n",
       "    <tr>\n",
       "      <th>...</th>\n",
       "      <td>...</td>\n",
       "      <td>...</td>\n",
       "      <td>...</td>\n",
       "      <td>...</td>\n",
       "      <td>...</td>\n",
       "      <td>...</td>\n",
       "      <td>...</td>\n",
       "    </tr>\n",
       "    <tr>\n",
       "      <th>1255</th>\n",
       "      <td>FURTADO</td>\n",
       "      <td>I/TOYOTA HILUX SW4 4X4SR</td>\n",
       "      <td>0</td>\n",
       "      <td>PRATA</td>\n",
       "      <td>30/04/2020 03:00:00</td>\n",
       "      <td>ABRIL</td>\n",
       "      <td>NaN</td>\n",
       "    </tr>\n",
       "    <tr>\n",
       "      <th>1256</th>\n",
       "      <td>FURTADO</td>\n",
       "      <td>CHEV/PRISMA 10MT JOYE</td>\n",
       "      <td>2019</td>\n",
       "      <td>PRATA</td>\n",
       "      <td>30/04/2020 06:30:00</td>\n",
       "      <td>ABRIL</td>\n",
       "      <td>NaN</td>\n",
       "    </tr>\n",
       "    <tr>\n",
       "      <th>1257</th>\n",
       "      <td>FURTADO</td>\n",
       "      <td>FORD/FORD</td>\n",
       "      <td>0</td>\n",
       "      <td>VERMELHO</td>\n",
       "      <td>30/04/2020 20:07:00</td>\n",
       "      <td>ABRIL</td>\n",
       "      <td>NaN</td>\n",
       "    </tr>\n",
       "    <tr>\n",
       "      <th>1258</th>\n",
       "      <td>ROUBADO</td>\n",
       "      <td>HONDA/CBX 250 TWISTER</td>\n",
       "      <td>0</td>\n",
       "      <td>PRETA</td>\n",
       "      <td>30/04/2020 20:10:00</td>\n",
       "      <td>ABRIL</td>\n",
       "      <td>NaN</td>\n",
       "    </tr>\n",
       "    <tr>\n",
       "      <th>1259</th>\n",
       "      <td>ROUBADO</td>\n",
       "      <td>FIAT/PALIO WEEKEND ELX</td>\n",
       "      <td>2002</td>\n",
       "      <td>VERMELHO</td>\n",
       "      <td>30/04/2020 22:15:00</td>\n",
       "      <td>ABRIL</td>\n",
       "      <td>NaN</td>\n",
       "    </tr>\n",
       "  </tbody>\n",
       "</table>\n",
       "<p>1260 rows × 7 columns</p>\n",
       "</div>"
      ],
      "text/plain": [
       "     SITUAÇÃO              MARCA/MODELO  ANO/MODELO       COR  \\\n",
       "0     FURTADO              FORD/KA FLEX        2013     PRATA   \n",
       "1     FURTADO       HONDA/CG 125 FAN KS        2009  VERMELHO   \n",
       "2     FURTADO       HONDA/CG 125 FAN ES        2009  VERMELHO   \n",
       "3     FURTADO       HONDA/CG 125 FAN ES        2009  VERMELHO   \n",
       "4     FURTADO               VW/GOL 1000        1995     PRETA   \n",
       "...       ...                       ...         ...       ...   \n",
       "1255  FURTADO  I/TOYOTA HILUX SW4 4X4SR           0     PRATA   \n",
       "1256  FURTADO     CHEV/PRISMA 10MT JOYE        2019     PRATA   \n",
       "1257  FURTADO                 FORD/FORD           0  VERMELHO   \n",
       "1258  ROUBADO     HONDA/CBX 250 TWISTER           0     PRETA   \n",
       "1259  ROUBADO    FIAT/PALIO WEEKEND ELX        2002  VERMELHO   \n",
       "\n",
       "                 DATA DES      MES  Unnamed: 6  \n",
       "0     01/01/2020 00:00:00  JANEIRO         NaN  \n",
       "1     01/01/2020 04:20:00  JANEIRO         NaN  \n",
       "2     01/01/2020 12:00:00  JANEIRO         NaN  \n",
       "3     01/01/2020 12:00:00  JANEIRO         NaN  \n",
       "4     01/01/2020 13:40:00  JANEIRO         NaN  \n",
       "...                   ...      ...         ...  \n",
       "1255  30/04/2020 03:00:00    ABRIL         NaN  \n",
       "1256  30/04/2020 06:30:00    ABRIL         NaN  \n",
       "1257  30/04/2020 20:07:00    ABRIL         NaN  \n",
       "1258  30/04/2020 20:10:00    ABRIL         NaN  \n",
       "1259  30/04/2020 22:15:00    ABRIL         NaN  \n",
       "\n",
       "[1260 rows x 7 columns]"
      ]
     },
     "execution_count": 7,
     "metadata": {},
     "output_type": "execute_result"
    }
   ],
   "source": [
    "import pandas as pd\n",
    "df = pd.read_csv('FURTOROUBO.csv', sep=';', encoding='cp1252')\n",
    "\n",
    "df.head(2000)"
   ]
  },
  {
   "cell_type": "code",
   "execution_count": 16,
   "metadata": {},
   "outputs": [
    {
     "data": {
      "text/plain": [
       "FURTADO    865\n",
       "ROUBADO    395\n",
       "Name: SITUAÇÃO, dtype: int64"
      ]
     },
     "execution_count": 16,
     "metadata": {},
     "output_type": "execute_result"
    }
   ],
   "source": [
    "#Dados gerais de quantidade\n",
    "import pandas as pd\n",
    "df = pd.read_csv('FURTOROUBO.csv', sep=';', encoding='cp1252')\n",
    "df['SITUAÇÃO'].value_counts()"
   ]
  },
  {
   "cell_type": "code",
   "execution_count": 26,
   "metadata": {},
   "outputs": [
    {
     "data": {
      "text/plain": [
       "HONDA/CG 150 TITAN KS       19\n",
       "HYUNDAI/HB20 1.0M COMFOR    18\n",
       "VW/GOL SPECIAL              14\n",
       "GM/CORSA WIND               14\n",
       "VW/GOL 1.0                  13\n",
       "                            ..\n",
       "SR/RODOFORTSA SRFG 3E        1\n",
       "FIAT/UNO 1.0                 1\n",
       "I/FORD FOCUS 1.6L HA         1\n",
       "GM/ASTRA ADVANTAGE           1\n",
       "IMP/FIAT TIPO 1.6IE          1\n",
       "Name: MARCA/MODELO, Length: 608, dtype: int64"
      ]
     },
     "execution_count": 26,
     "metadata": {},
     "output_type": "execute_result"
    }
   ],
   "source": [
    "# veiculos mais roubados e menos roubados \n",
    "import pandas as pd\n",
    "df = pd.read_csv('FURTOROUBO.csv', sep=';', encoding='cp1252')\n",
    "\n",
    "df['MARCA/MODELO'].value_counts()\n"
   ]
  },
  {
   "cell_type": "code",
   "execution_count": 33,
   "metadata": {},
   "outputs": [
    {
     "data": {
      "text/html": [
       "<div>\n",
       "<style scoped>\n",
       "    .dataframe tbody tr th:only-of-type {\n",
       "        vertical-align: middle;\n",
       "    }\n",
       "\n",
       "    .dataframe tbody tr th {\n",
       "        vertical-align: top;\n",
       "    }\n",
       "\n",
       "    .dataframe thead th {\n",
       "        text-align: right;\n",
       "    }\n",
       "</style>\n",
       "<table border=\"1\" class=\"dataframe\">\n",
       "  <thead>\n",
       "    <tr style=\"text-align: right;\">\n",
       "      <th></th>\n",
       "      <th>ANO/MODELO</th>\n",
       "      <th>Unnamed: 6</th>\n",
       "    </tr>\n",
       "  </thead>\n",
       "  <tbody>\n",
       "    <tr>\n",
       "      <th>count</th>\n",
       "      <td>1260.000000</td>\n",
       "      <td>0.0</td>\n",
       "    </tr>\n",
       "    <tr>\n",
       "      <th>mean</th>\n",
       "      <td>1548.009524</td>\n",
       "      <td>NaN</td>\n",
       "    </tr>\n",
       "    <tr>\n",
       "      <th>std</th>\n",
       "      <td>844.896940</td>\n",
       "      <td>NaN</td>\n",
       "    </tr>\n",
       "    <tr>\n",
       "      <th>min</th>\n",
       "      <td>0.000000</td>\n",
       "      <td>NaN</td>\n",
       "    </tr>\n",
       "    <tr>\n",
       "      <th>25%</th>\n",
       "      <td>1988.000000</td>\n",
       "      <td>NaN</td>\n",
       "    </tr>\n",
       "    <tr>\n",
       "      <th>50%</th>\n",
       "      <td>2008.000000</td>\n",
       "      <td>NaN</td>\n",
       "    </tr>\n",
       "    <tr>\n",
       "      <th>75%</th>\n",
       "      <td>2014.000000</td>\n",
       "      <td>NaN</td>\n",
       "    </tr>\n",
       "    <tr>\n",
       "      <th>max</th>\n",
       "      <td>2020.000000</td>\n",
       "      <td>NaN</td>\n",
       "    </tr>\n",
       "  </tbody>\n",
       "</table>\n",
       "</div>"
      ],
      "text/plain": [
       "        ANO/MODELO  Unnamed: 6\n",
       "count  1260.000000         0.0\n",
       "mean   1548.009524         NaN\n",
       "std     844.896940         NaN\n",
       "min       0.000000         NaN\n",
       "25%    1988.000000         NaN\n",
       "50%    2008.000000         NaN\n",
       "75%    2014.000000         NaN\n",
       "max    2020.000000         NaN"
      ]
     },
     "execution_count": 33,
     "metadata": {},
     "output_type": "execute_result"
    }
   ],
   "source": [
    "df.describe()"
   ]
  },
  {
   "cell_type": "code",
   "execution_count": 34,
   "metadata": {},
   "outputs": [
    {
     "name": "stdout",
     "output_type": "stream",
     "text": [
      "<class 'pandas.core.frame.DataFrame'>\n",
      "RangeIndex: 1260 entries, 0 to 1259\n",
      "Data columns (total 7 columns):\n",
      " #   Column        Non-Null Count  Dtype  \n",
      "---  ------        --------------  -----  \n",
      " 0   SITUAÇÃO      1260 non-null   object \n",
      " 1   MARCA/MODELO  1260 non-null   object \n",
      " 2   ANO/MODELO    1260 non-null   int64  \n",
      " 3   COR           1260 non-null   object \n",
      " 4   DATA DES      1260 non-null   object \n",
      " 5   MES           1260 non-null   object \n",
      " 6   Unnamed: 6    0 non-null      float64\n",
      "dtypes: float64(1), int64(1), object(5)\n",
      "memory usage: 69.0+ KB\n"
     ]
    }
   ],
   "source": [
    "df.info()"
   ]
  },
  {
   "cell_type": "code",
   "execution_count": 2,
   "metadata": {},
   "outputs": [
    {
     "data": {
      "text/plain": [
       "<matplotlib.axes._subplots.AxesSubplot at 0x195eb824188>"
      ]
     },
     "execution_count": 2,
     "metadata": {},
     "output_type": "execute_result"
    },
    {
     "data": {
      "image/png": "[encoded data removed]",
      "text/plain": [
       "<Figure size 432x288 with 1 Axes>"
      ]
     },
     "metadata": {
      "needs_background": "light"
     },
     "output_type": "display_data"
    }
   ],
   "source": [
    "#INFORMAÇÕES DE ROUBOS\n",
    "import pandas as pd\n",
    "df = pd.read_csv('FURTOROUBO.csv', sep=';', encoding='cp1252')\n",
    "\n",
    "%matplotlib inline \n",
    "df_sub = df[df['SITUAÇÃO'] == 'ROUBADO' ]\n",
    "df_sub['MES'].value_counts().plot.bar(title='Quantidade de Roubos por mes')\n",
    "\n"
   ]
  },
  {
   "cell_type": "code",
   "execution_count": 3,
   "metadata": {},
   "outputs": [
    {
     "data": {
      "text/plain": [
       "<matplotlib.axes._subplots.AxesSubplot at 0x195eccc83c8>"
      ]
     },
     "execution_count": 3,
     "metadata": {},
     "output_type": "execute_result"
    },
    {
     "data": {
      "image/png": "[encoded data removed]",
      "text/plain": [
       "<Figure size 432x288 with 1 Axes>"
      ]
     },
     "metadata": {
      "needs_background": "light"
     },
     "output_type": "display_data"
    }
   ],
   "source": [
    "#INFORMAÇÕES DE FURTOS\n",
    "import pandas as pd\n",
    "df = pd.read_csv('FURTOROUBO.csv', sep=';', encoding='cp1252')\n",
    "%matplotlib inline \n",
    "df_sub = df[df['SITUAÇÃO'] == 'FURTADO' ]\n",
    "df_sub['MES'].value_counts().plot.bar(title='Quantidade de Furtos por mes')\n"
   ]
  },
  {
   "cell_type": "code",
   "execution_count": 58,
   "metadata": {},
   "outputs": [
    {
     "data": {
      "text/plain": [
       "<matplotlib.axes._subplots.AxesSubplot at 0x16833e84c88>"
      ]
     },
     "execution_count": 58,
     "metadata": {},
     "output_type": "execute_result"
    },
    {
     "data": {
      "image/png": "[encoded data removed]",
      "text/plain": [
       "<Figure size 432x288 with 1 Axes>"
      ]
     },
     "metadata": {},
     "output_type": "display_data"
    }
   ],
   "source": [
    "#ROUBO X FURTOS MES A MES (janeiro)\n",
    "# Gráfico exibindo roubo x furto\n",
    "\n",
    "import pandas as pd\n",
    "df = pd.read_csv('FURTOROUBO.csv', sep=';', encoding='cp1252')\n",
    "\n",
    "%matplotlib inline \n",
    "df_sub = df[df['MES'] == 'JANEIRO' ]\n",
    "df_sub['SITUAÇÃO'].value_counts().plot.pie(title='Roubos e furtos mes de janeiro')"
   ]
  },
  {
   "cell_type": "code",
   "execution_count": 59,
   "metadata": {},
   "outputs": [
    {
     "data": {
      "text/plain": [
       "FURTADO    288\n",
       "ROUBADO    111\n",
       "Name: SITUAÇÃO, dtype: int64"
      ]
     },
     "execution_count": 59,
     "metadata": {},
     "output_type": "execute_result"
    }
   ],
   "source": [
    "#ROUBO X FURTOS MES A MES (Janeiro)\n",
    "\n",
    "import pandas as pd\n",
    "df = pd.read_csv('FURTOROUBO.csv', sep=';', encoding='cp1252')\n",
    "df_sub = df[df['MES'] == 'JANEIRO' ]\n",
    "df_sub['SITUAÇÃO'].value_counts()\n"
   ]
  },
  {
   "cell_type": "code",
   "execution_count": 60,
   "metadata": {},
   "outputs": [
    {
     "data": {
      "text/plain": [
       "<matplotlib.axes._subplots.AxesSubplot at 0x16833d37e48>"
      ]
     },
     "execution_count": 60,
     "metadata": {},
     "output_type": "execute_result"
    },
    {
     "data": {
      "image/png": "[encoded data removed]",
      "text/plain": [
       "<Figure size 432x288 with 1 Axes>"
      ]
     },
     "metadata": {},
     "output_type": "display_data"
    }
   ],
   "source": [
    "#ROUBO X FURTOS MES A MES (Fevereiro)\n",
    "# Gráfico exibindo roubo x furto\n",
    "import pandas as pd\n",
    "df = pd.read_csv('FURTOROUBO.csv', sep=';', encoding='cp1252')\n",
    "\n",
    "%matplotlib inline \n",
    "df_sub = df[df['MES'] == 'FEVEREIRO' ]\n",
    "df_sub['SITUAÇÃO'].value_counts().plot.pie(title='Roubos e furtos mes de Fevereiro')"
   ]
  },
  {
   "cell_type": "code",
   "execution_count": 61,
   "metadata": {},
   "outputs": [
    {
     "data": {
      "text/plain": [
       "FURTADO    257\n",
       "ROUBADO     77\n",
       "Name: SITUAÇÃO, dtype: int64"
      ]
     },
     "execution_count": 61,
     "metadata": {},
     "output_type": "execute_result"
    }
   ],
   "source": [
    "import pandas as pd\n",
    "df = pd.read_csv('FURTOROUBO.csv', sep=';', encoding='cp1252')\n",
    "df_sub['SITUAÇÃO'].value_counts()"
   ]
  },
  {
   "cell_type": "code",
   "execution_count": 8,
   "metadata": {},
   "outputs": [
    {
     "data": {
      "text/plain": [
       "<matplotlib.axes._subplots.AxesSubplot at 0x195ecd59348>"
      ]
     },
     "execution_count": 8,
     "metadata": {},
     "output_type": "execute_result"
    },
    {
     "data": {
      "image/png": "[encoded data removed]",
      "text/plain": [
       "<Figure size 432x288 with 1 Axes>"
      ]
     },
     "metadata": {},
     "output_type": "display_data"
    }
   ],
   "source": [
    "#ROUBO X FURTOS MES A MES (Março)\n",
    "import pandas as pd\n",
    "df = pd.read_csv('FURTOROUBO.csv', sep=';', encoding='cp1252')\n",
    "\n",
    "%matplotlib inline \n",
    "df_sub = df[df['MES'] == 'MARÇO' ]\n",
    "df_sub['SITUAÇÃO'].value_counts().plot.pie(title='Roubos e furtos mes de março')"
   ]
  },
  {
   "cell_type": "code",
   "execution_count": 5,
   "metadata": {},
   "outputs": [
    {
     "data": {
      "text/plain": [
       "FURTADO    865\n",
       "Name: SITUAÇÃO, dtype: int64"
      ]
     },
     "execution_count": 5,
     "metadata": {},
     "output_type": "execute_result"
    }
   ],
   "source": [
    "#total de roubos e furtos \n",
    "import pandas as pd\n",
    "df = pd.read_csv('FURTOROUBO.csv', sep=';', encoding='cp1252')\n",
    "df_sub['SITUAÇÃO'].value_counts()"
   ]
  },
  {
   "cell_type": "code",
   "execution_count": null,
   "metadata": {},
   "outputs": [],
   "source": []
  },
  {
   "cell_type": "code",
   "execution_count": null,
   "metadata": {},
   "outputs": [],
   "source": []
  },
  {
   "cell_type": "code",
   "execution_count": null,
   "metadata": {},
   "outputs": [],
   "source": []
  }
 ],
 "metadata": {
  "kernelspec": {
   "display_name": "Python 3",
   "language": "python",
   "name": "python3"
  },
  "language_info": {
   "codemirror_mode": {
    "name": "ipython",
    "version": 3
   },
   "file_extension": ".py",
   "mimetype": "text/x-python",
   "name": "python",
   "nbconvert_exporter": "python",
   "pygments_lexer": "ipython3",
   "version": "3.7.6"
  }
 },
 "nbformat": 4,
 "nbformat_minor": 4
}
